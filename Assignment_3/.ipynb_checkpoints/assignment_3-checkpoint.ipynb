{
 "cells": [
  {
   "cell_type": "code",
   "execution_count": 1,
   "metadata": {},
   "outputs": [
    {
     "name": "stdout",
     "output_type": "stream",
     "text": [
      "0.0303030303030303\n"
     ]
    }
   ],
   "source": [
    "# Question 1\n",
    "\n",
    "def fxn(x,y,z):\n",
    "    pba = (z * y)/x\n",
    "    print(pba)\n",
    "\n",
    "a = 11\n",
    "b = 6\n",
    "total = 36\n",
    "pa = a/total #probability of a\n",
    "pb = b/total  #probability of b\n",
    "pab = 2/total\n",
    "fxn(pa,pb,pab)\n"
   ]
  },
  {
   "cell_type": "code",
   "execution_count": 2,
   "metadata": {},
   "outputs": [
    {
     "name": "stdout",
     "output_type": "stream",
     "text": [
      "0.5833333333333334\n"
     ]
    }
   ],
   "source": [
    "# Question 2\n",
    "\n",
    "white1 = 4\n",
    "black1 = 6\n",
    "bag1 = white1 + black1\n",
    "\n",
    "white2 = 4\n",
    "black2 = 3\n",
    "bag2 = white2 + black2\n",
    "\n",
    "pE1 = pE2 = 1/2 #Event one - choosing one bag\n",
    "pAE1 = black1/bag1 # probabilty of no of black balls in bag1\n",
    "pAE2 = black2/bag2 # probabilty of no of black balls in bag2\n",
    "\n",
    "pE1A = pE1*pAE1 / ((pE1*pAE1)+(pE2*pAE2)) # probability of it's actually from bag1\n",
    "print(pE1A)"
   ]
  },
  {
   "cell_type": "code",
   "execution_count": 3,
   "metadata": {},
   "outputs": [
    {
     "name": "stdout",
     "output_type": "stream",
     "text": [
      "0.6666666666666666\n"
     ]
    }
   ],
   "source": [
    "# Question 3\n",
    "\n",
    "pA = 2/3 # probabilty of man speaking a truth\n",
    "pB = 1-pA # probabilty of man speaking a lie\n",
    "\n",
    "pE1 = 1/6 # probabilty of getting a \"4\" when dice roll\n",
    "pE2 = 1-pE1 # probabilty of not getting a \"4\" when dice roll\n",
    "\n",
    "pAE1 = pA/pE1 # probability of man telling truth it's black ball\n",
    "pAE2 = pB/pE2 # probability of man telling truth it's not a black ball\n",
    "\n",
    "pE1A = pE1*pAE1 / ((pE1*pAE1)+(pE2*pAE2)) # probabity it's actually a \"4\"\n",
    "print(pE1A)"
   ]
  },
  {
   "cell_type": "code",
   "execution_count": null,
   "metadata": {},
   "outputs": [],
   "source": []
  }
 ],
 "metadata": {
  "kernelspec": {
   "display_name": "Python 3",
   "language": "python",
   "name": "python3"
  },
  "language_info": {
   "codemirror_mode": {
    "name": "ipython",
    "version": 3
   },
   "file_extension": ".py",
   "mimetype": "text/x-python",
   "name": "python",
   "nbconvert_exporter": "python",
   "pygments_lexer": "ipython3",
   "version": "3.7.1"
  }
 },
 "nbformat": 4,
 "nbformat_minor": 2
}
